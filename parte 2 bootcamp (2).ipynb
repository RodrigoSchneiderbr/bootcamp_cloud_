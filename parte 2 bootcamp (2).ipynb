{
 "cells": [
  {
   "cell_type": "code",
   "execution_count": 5,
   "id": "fca8aeaa",
   "metadata": {},
   "outputs": [],
   "source": [
    "import findspark\n",
    "\n",
    "findspark.init()"
   ]
  },
  {
   "cell_type": "code",
   "execution_count": 6,
   "id": "38685d3c",
   "metadata": {},
   "outputs": [],
   "source": [
    "from pyspark.sql import SparkSession\n",
    "import pyspark.sql.functions as f\n",
    "import pyspark.sql.types as t"
   ]
  },
  {
   "cell_type": "code",
   "execution_count": 7,
   "id": "bba672e9",
   "metadata": {},
   "outputs": [],
   "source": [
    "from pyspark.sql import SparkSession\n",
    "import pyspark.sql.functions as f\n",
    "import pyspark.sql.types as t"
   ]
  },
  {
   "cell_type": "code",
   "execution_count": 8,
   "id": "9b826796",
   "metadata": {},
   "outputs": [],
   "source": [
    "warehouse_location = 'C:/warehouse_location'\n",
    "\n",
    "spark = (\n",
    "    SparkSession\n",
    "    .builder\n",
    "    .config(\"spark.driver.memory\", '8g')\n",
    "    .config(\"spark.sql.warehouse.dir\", warehouse_location)\n",
    "    .enableHiveSupport()\n",
    "    .getOrCreate()\n",
    ")"
   ]
  },
  {
   "cell_type": "code",
   "execution_count": 9,
   "id": "1f8e4911",
   "metadata": {},
   "outputs": [
    {
     "data": {
      "text/plain": [
       "<pyspark.sql.catalog.Catalog at 0x2d8285717c0>"
      ]
     },
     "execution_count": 9,
     "metadata": {},
     "output_type": "execute_result"
    }
   ],
   "source": [
    "spark.catalog"
   ]
  },
  {
   "cell_type": "code",
   "execution_count": 19,
   "id": "f45f5da2",
   "metadata": {},
   "outputs": [],
   "source": [
    "data_path = 'C:/Users/rodri/Desktop/Dados/data/edc3/'"
   ]
  },
  {
   "cell_type": "code",
   "execution_count": 17,
   "id": "5a4447d7",
   "metadata": {},
   "outputs": [],
   "source": [
    "df_titles = spark.read.csv('title_basics.tsv', header=True, sep='\\t')\n",
    "df_ratings = spark.read.csv('title_ratings.tsv', header=True, sep='\\t')\n"
   ]
  },
  {
   "cell_type": "code",
   "execution_count": 20,
   "id": "b2336f88",
   "metadata": {},
   "outputs": [],
   "source": [
    "df_titles.write.format('parquet').mode('overwrite').save(data_path + 'title_basics')"
   ]
  },
  {
   "cell_type": "code",
   "execution_count": 22,
   "id": "0d7709ad",
   "metadata": {},
   "outputs": [],
   "source": [
    "df_titles_sample = df_titles.sample(fraction = 0.1)"
   ]
  },
  {
   "cell_type": "code",
   "execution_count": 23,
   "id": "1e51ca4c",
   "metadata": {},
   "outputs": [],
   "source": [
    "file_path = 'C:/Users/rodri/Desktop/Dados/data/edc3/title_basics.tsv'"
   ]
  },
  {
   "cell_type": "code",
   "execution_count": null,
   "id": "4119d5b9",
   "metadata": {},
   "outputs": [],
   "source": [
    "spark.sql('SHOW DATABASES').toPandas()"
   ]
  },
  {
   "cell_type": "code",
   "execution_count": null,
   "id": "3b2142c5",
   "metadata": {},
   "outputs": [],
   "source": []
  },
  {
   "cell_type": "code",
   "execution_count": null,
   "id": "4cab5260",
   "metadata": {},
   "outputs": [],
   "source": [
    "spark.sql('CREATE DATABASE BOOTCAMP;')"
   ]
  },
  {
   "cell_type": "code",
   "execution_count": 18,
   "id": "b69a76eb",
   "metadata": {},
   "outputs": [
    {
     "data": {
      "text/plain": [
       "DataFrame[]"
      ]
     },
     "execution_count": 18,
     "metadata": {},
     "output_type": "execute_result"
    }
   ],
   "source": [
    "spark.sql('USE BOOTCAMP;')"
   ]
  },
  {
   "cell_type": "code",
   "execution_count": 20,
   "id": "4ec69a02",
   "metadata": {},
   "outputs": [
    {
     "data": {
      "text/html": [
       "<div>\n",
       "<style scoped>\n",
       "    .dataframe tbody tr th:only-of-type {\n",
       "        vertical-align: middle;\n",
       "    }\n",
       "\n",
       "    .dataframe tbody tr th {\n",
       "        vertical-align: top;\n",
       "    }\n",
       "\n",
       "    .dataframe thead th {\n",
       "        text-align: right;\n",
       "    }\n",
       "</style>\n",
       "<table border=\"1\" class=\"dataframe\">\n",
       "  <thead>\n",
       "    <tr style=\"text-align: right;\">\n",
       "      <th></th>\n",
       "      <th>database</th>\n",
       "      <th>tableName</th>\n",
       "      <th>isTemporary</th>\n",
       "    </tr>\n",
       "  </thead>\n",
       "  <tbody>\n",
       "  </tbody>\n",
       "</table>\n",
       "</div>"
      ],
      "text/plain": [
       "Empty DataFrame\n",
       "Columns: [database, tableName, isTemporary]\n",
       "Index: []"
      ]
     },
     "execution_count": 20,
     "metadata": {},
     "output_type": "execute_result"
    }
   ],
   "source": [
    "spark.sql('SHOW TABLES;').toPandas()"
   ]
  },
  {
   "cell_type": "code",
   "execution_count": 21,
   "id": "9c89552e",
   "metadata": {},
   "outputs": [
    {
     "data": {
      "text/plain": [
       "[Database(name='bootcamp', description='', locationUri='file:/C:/warehouse_location/bootcamp.db'),\n",
       " Database(name='default', description='Default Hive database', locationUri='file:/C:/warehouse_location')]"
      ]
     },
     "execution_count": 21,
     "metadata": {},
     "output_type": "execute_result"
    }
   ],
   "source": [
    "spark.catalog.listDatabases()"
   ]
  },
  {
   "cell_type": "code",
   "execution_count": 16,
   "id": "67d564ad",
   "metadata": {},
   "outputs": [
    {
     "data": {
      "text/plain": [
       "DataFrame[]"
      ]
     },
     "execution_count": 16,
     "metadata": {},
     "output_type": "execute_result"
    }
   ],
   "source": [
    "spark.sql('USE BOOTCAMP')"
   ]
  },
  {
   "cell_type": "code",
   "execution_count": 19,
   "id": "3e4de708",
   "metadata": {},
   "outputs": [
    {
     "data": {
      "text/plain": [
       "DataFrame[]"
      ]
     },
     "execution_count": 19,
     "metadata": {},
     "output_type": "execute_result"
    }
   ],
   "source": [
    "spark.sql('DROP TABLE title_basics_managed')"
   ]
  },
  {
   "cell_type": "code",
   "execution_count": 37,
   "id": "1317a512",
   "metadata": {},
   "outputs": [
    {
     "data": {
      "text/plain": [
       "[]"
      ]
     },
     "execution_count": 37,
     "metadata": {},
     "output_type": "execute_result"
    }
   ],
   "source": [
    "spark.catalog.listTables()"
   ]
  },
  {
   "cell_type": "code",
   "execution_count": 17,
   "id": "12d82734",
   "metadata": {},
   "outputs": [],
   "source": [
    "df_titles_sample.write.saveAsTable(\"title_basics_managed\")"
   ]
  },
  {
   "cell_type": "code",
   "execution_count": 20,
   "id": "59d516ba",
   "metadata": {},
   "outputs": [
    {
     "data": {
      "text/html": [
       "<div>\n",
       "<style scoped>\n",
       "    .dataframe tbody tr th:only-of-type {\n",
       "        vertical-align: middle;\n",
       "    }\n",
       "\n",
       "    .dataframe tbody tr th {\n",
       "        vertical-align: top;\n",
       "    }\n",
       "\n",
       "    .dataframe thead th {\n",
       "        text-align: right;\n",
       "    }\n",
       "</style>\n",
       "<table border=\"1\" class=\"dataframe\">\n",
       "  <thead>\n",
       "    <tr style=\"text-align: right;\">\n",
       "      <th></th>\n",
       "    </tr>\n",
       "  </thead>\n",
       "  <tbody>\n",
       "  </tbody>\n",
       "</table>\n",
       "</div>"
      ],
      "text/plain": [
       "Empty DataFrame\n",
       "Columns: []\n",
       "Index: []"
      ]
     },
     "execution_count": 20,
     "metadata": {},
     "output_type": "execute_result"
    }
   ],
   "source": [
    "spark.sql(\"\"\"\n",
    "CREATE TABLE title_basics_managed \n",
    "(tconst STRING, \n",
    " titleType STRING, \n",
    " primaryTitle STRING,\n",
    " originalTitle STRING,\n",
    " isAdult STRING,\n",
    " startYear STRING, \n",
    " endYear STRING,\n",
    " runtimeMinutes STRING,\n",
    " genres STRING)\n",
    "\"\"\").toPandas()"
   ]
  },
  {
   "cell_type": "code",
   "execution_count": 23,
   "id": "0b95384d",
   "metadata": {},
   "outputs": [
    {
     "data": {
      "text/plain": [
       "[Table(name='title_basics_managed', database='bootcamp', description=None, tableType='MANAGED', isTemporary=False)]"
      ]
     },
     "execution_count": 23,
     "metadata": {},
     "output_type": "execute_result"
    }
   ],
   "source": [
    "spark.catalog.listTables()"
   ]
  },
  {
   "cell_type": "code",
   "execution_count": 24,
   "id": "0c264d5e",
   "metadata": {},
   "outputs": [
    {
     "data": {
      "text/html": [
       "<div>\n",
       "<style scoped>\n",
       "    .dataframe tbody tr th:only-of-type {\n",
       "        vertical-align: middle;\n",
       "    }\n",
       "\n",
       "    .dataframe tbody tr th {\n",
       "        vertical-align: top;\n",
       "    }\n",
       "\n",
       "    .dataframe thead th {\n",
       "        text-align: right;\n",
       "    }\n",
       "</style>\n",
       "<table border=\"1\" class=\"dataframe\">\n",
       "  <thead>\n",
       "    <tr style=\"text-align: right;\">\n",
       "      <th></th>\n",
       "      <th>database</th>\n",
       "      <th>tableName</th>\n",
       "      <th>isTemporary</th>\n",
       "    </tr>\n",
       "  </thead>\n",
       "  <tbody>\n",
       "    <tr>\n",
       "      <th>0</th>\n",
       "      <td>bootcamp</td>\n",
       "      <td>title_basics_managed</td>\n",
       "      <td>False</td>\n",
       "    </tr>\n",
       "  </tbody>\n",
       "</table>\n",
       "</div>"
      ],
      "text/plain": [
       "   database             tableName  isTemporary\n",
       "0  bootcamp  title_basics_managed        False"
      ]
     },
     "execution_count": 24,
     "metadata": {},
     "output_type": "execute_result"
    }
   ],
   "source": [
    "spark.sql('SHOW TABLES').toPandas()"
   ]
  },
  {
   "cell_type": "code",
   "execution_count": 25,
   "id": "4b04c7e2",
   "metadata": {},
   "outputs": [
    {
     "data": {
      "text/html": [
       "<div>\n",
       "<style scoped>\n",
       "    .dataframe tbody tr th:only-of-type {\n",
       "        vertical-align: middle;\n",
       "    }\n",
       "\n",
       "    .dataframe tbody tr th {\n",
       "        vertical-align: top;\n",
       "    }\n",
       "\n",
       "    .dataframe thead th {\n",
       "        text-align: right;\n",
       "    }\n",
       "</style>\n",
       "<table border=\"1\" class=\"dataframe\">\n",
       "  <thead>\n",
       "    <tr style=\"text-align: right;\">\n",
       "      <th></th>\n",
       "      <th>namespace</th>\n",
       "    </tr>\n",
       "  </thead>\n",
       "  <tbody>\n",
       "    <tr>\n",
       "      <th>0</th>\n",
       "      <td>bootcamp</td>\n",
       "    </tr>\n",
       "    <tr>\n",
       "      <th>1</th>\n",
       "      <td>default</td>\n",
       "    </tr>\n",
       "  </tbody>\n",
       "</table>\n",
       "</div>"
      ],
      "text/plain": [
       "  namespace\n",
       "0  bootcamp\n",
       "1   default"
      ]
     },
     "execution_count": 25,
     "metadata": {},
     "output_type": "execute_result"
    }
   ],
   "source": [
    "spark.sql('SHOW DATABASES').toPandas()"
   ]
  },
  {
   "cell_type": "code",
   "execution_count": 26,
   "id": "230a31fc",
   "metadata": {},
   "outputs": [
    {
     "data": {
      "text/plain": [
       "DataFrame[]"
      ]
     },
     "execution_count": 26,
     "metadata": {},
     "output_type": "execute_result"
    }
   ],
   "source": [
    "spark.sql('USE BOOTCAMP')"
   ]
  },
  {
   "cell_type": "code",
   "execution_count": 31,
   "id": "64e88ded",
   "metadata": {},
   "outputs": [
    {
     "data": {
      "text/html": [
       "<div>\n",
       "<style scoped>\n",
       "    .dataframe tbody tr th:only-of-type {\n",
       "        vertical-align: middle;\n",
       "    }\n",
       "\n",
       "    .dataframe tbody tr th {\n",
       "        vertical-align: top;\n",
       "    }\n",
       "\n",
       "    .dataframe thead th {\n",
       "        text-align: right;\n",
       "    }\n",
       "</style>\n",
       "<table border=\"1\" class=\"dataframe\">\n",
       "  <thead>\n",
       "    <tr style=\"text-align: right;\">\n",
       "      <th></th>\n",
       "      <th>tconst</th>\n",
       "      <th>titleType</th>\n",
       "      <th>primaryTitle</th>\n",
       "      <th>originalTitle</th>\n",
       "      <th>isAdult</th>\n",
       "      <th>startYear</th>\n",
       "      <th>endYear</th>\n",
       "      <th>runtimeMinutes</th>\n",
       "      <th>genres</th>\n",
       "    </tr>\n",
       "  </thead>\n",
       "  <tbody>\n",
       "  </tbody>\n",
       "</table>\n",
       "</div>"
      ],
      "text/plain": [
       "Empty DataFrame\n",
       "Columns: [tconst, titleType, primaryTitle, originalTitle, isAdult, startYear, endYear, runtimeMinutes, genres]\n",
       "Index: []"
      ]
     },
     "execution_count": 31,
     "metadata": {},
     "output_type": "execute_result"
    }
   ],
   "source": [
    "spark.sql('SELECT * FROM title_basics_managed LIMIT 10').toPandas()"
   ]
  },
  {
   "cell_type": "code",
   "execution_count": 33,
   "id": "dd3758b6",
   "metadata": {},
   "outputs": [
    {
     "data": {
      "text/plain": [
       "DataFrame[]"
      ]
     },
     "execution_count": 33,
     "metadata": {},
     "output_type": "execute_result"
    }
   ],
   "source": [
    "spark.sql('USE default')"
   ]
  },
  {
   "cell_type": "code",
   "execution_count": 34,
   "id": "3f31a611",
   "metadata": {},
   "outputs": [
    {
     "data": {
      "text/plain": [
       "DataFrame[database: string, tableName: string, isTemporary: boolean]"
      ]
     },
     "execution_count": 34,
     "metadata": {},
     "output_type": "execute_result"
    }
   ],
   "source": [
    "spark.sql('SHOW TABLES')"
   ]
  },
  {
   "cell_type": "code",
   "execution_count": 24,
   "id": "cc41c66b",
   "metadata": {},
   "outputs": [],
   "source": [
    "#configuração#"
   ]
  },
  {
   "cell_type": "code",
   "execution_count": 14,
   "id": "d9d52823",
   "metadata": {},
   "outputs": [],
   "source": [
    "spark = (\n",
    "      SparkSession\n",
    "      .builder\n",
    "      .config('spark.driver.memory','8g')\n",
    "      .getOrCreate()\n",
    ")"
   ]
  },
  {
   "cell_type": "code",
   "execution_count": 15,
   "id": "a821661f",
   "metadata": {},
   "outputs": [
    {
     "data": {
      "text/plain": [
       "<pyspark.sql.conf.RuntimeConfig at 0x2d8285715b0>"
      ]
     },
     "execution_count": 15,
     "metadata": {},
     "output_type": "execute_result"
    }
   ],
   "source": [
    "spark.conf"
   ]
  },
  {
   "cell_type": "code",
   "execution_count": 26,
   "id": "30c23d45",
   "metadata": {},
   "outputs": [
    {
     "data": {
      "text/html": [
       "<div>\n",
       "<style scoped>\n",
       "    .dataframe tbody tr th:only-of-type {\n",
       "        vertical-align: middle;\n",
       "    }\n",
       "\n",
       "    .dataframe tbody tr th {\n",
       "        vertical-align: top;\n",
       "    }\n",
       "\n",
       "    .dataframe thead th {\n",
       "        text-align: right;\n",
       "    }\n",
       "</style>\n",
       "<table border=\"1\" class=\"dataframe\">\n",
       "  <thead>\n",
       "    <tr style=\"text-align: right;\">\n",
       "      <th></th>\n",
       "      <th>tconst</th>\n",
       "      <th>titleType</th>\n",
       "      <th>primaryTitle</th>\n",
       "      <th>originalTitle</th>\n",
       "      <th>isAdult</th>\n",
       "      <th>startYear</th>\n",
       "      <th>endYear</th>\n",
       "      <th>runtimeMinutes</th>\n",
       "      <th>genres</th>\n",
       "    </tr>\n",
       "  </thead>\n",
       "  <tbody>\n",
       "    <tr>\n",
       "      <th>0</th>\n",
       "      <td>tt0000019</td>\n",
       "      <td>short</td>\n",
       "      <td>The Clown Barber</td>\n",
       "      <td>The Clown Barber</td>\n",
       "      <td>0</td>\n",
       "      <td>1898</td>\n",
       "      <td>\\N</td>\n",
       "      <td>\\N</td>\n",
       "      <td>Comedy,Short</td>\n",
       "    </tr>\n",
       "    <tr>\n",
       "      <th>1</th>\n",
       "      <td>tt0000056</td>\n",
       "      <td>short</td>\n",
       "      <td>Uma Corrida de Touros no Campo Pequeno</td>\n",
       "      <td>Uma Corrida de Touros no Campo Pequeno</td>\n",
       "      <td>0</td>\n",
       "      <td>1896</td>\n",
       "      <td>\\N</td>\n",
       "      <td>\\N</td>\n",
       "      <td>Short</td>\n",
       "    </tr>\n",
       "    <tr>\n",
       "      <th>2</th>\n",
       "      <td>tt0000070</td>\n",
       "      <td>short</td>\n",
       "      <td>Demolition of a Wall</td>\n",
       "      <td>Démolition d'un mur</td>\n",
       "      <td>0</td>\n",
       "      <td>1896</td>\n",
       "      <td>\\N</td>\n",
       "      <td>1</td>\n",
       "      <td>Documentary,Short</td>\n",
       "    </tr>\n",
       "    <tr>\n",
       "      <th>3</th>\n",
       "      <td>tt0000077</td>\n",
       "      <td>short</td>\n",
       "      <td>Le fakir, mystère indien</td>\n",
       "      <td>Le fakir, mystère indien</td>\n",
       "      <td>0</td>\n",
       "      <td>1896</td>\n",
       "      <td>\\N</td>\n",
       "      <td>\\N</td>\n",
       "      <td>Short</td>\n",
       "    </tr>\n",
       "    <tr>\n",
       "      <th>4</th>\n",
       "      <td>tt0000111</td>\n",
       "      <td>short</td>\n",
       "      <td>Rip's Toast</td>\n",
       "      <td>Rip's Toast</td>\n",
       "      <td>0</td>\n",
       "      <td>1896</td>\n",
       "      <td>\\N</td>\n",
       "      <td>1</td>\n",
       "      <td>Drama,Short</td>\n",
       "    </tr>\n",
       "    <tr>\n",
       "      <th>5</th>\n",
       "      <td>tt0000115</td>\n",
       "      <td>short</td>\n",
       "      <td>Réunion d'officiers</td>\n",
       "      <td>Réunion d'officiers</td>\n",
       "      <td>0</td>\n",
       "      <td>1896</td>\n",
       "      <td>\\N</td>\n",
       "      <td>\\N</td>\n",
       "      <td>Documentary,Short</td>\n",
       "    </tr>\n",
       "    <tr>\n",
       "      <th>6</th>\n",
       "      <td>tt0000143</td>\n",
       "      <td>short</td>\n",
       "      <td>Les cambrioleurs</td>\n",
       "      <td>Les cambrioleurs</td>\n",
       "      <td>0</td>\n",
       "      <td>1897</td>\n",
       "      <td>\\N</td>\n",
       "      <td>1</td>\n",
       "      <td>Comedy,Short</td>\n",
       "    </tr>\n",
       "    <tr>\n",
       "      <th>7</th>\n",
       "      <td>tt0000165</td>\n",
       "      <td>short</td>\n",
       "      <td>Riña en un café</td>\n",
       "      <td>Riña en un café</td>\n",
       "      <td>0</td>\n",
       "      <td>1897</td>\n",
       "      <td>\\N</td>\n",
       "      <td>1</td>\n",
       "      <td>Short</td>\n",
       "    </tr>\n",
       "    <tr>\n",
       "      <th>8</th>\n",
       "      <td>tt0000174</td>\n",
       "      <td>short</td>\n",
       "      <td>Výstavní párkar a lepic plakátù</td>\n",
       "      <td>Výstavní párkar a lepic plakátù</td>\n",
       "      <td>0</td>\n",
       "      <td>1898</td>\n",
       "      <td>\\N</td>\n",
       "      <td>1</td>\n",
       "      <td>Comedy,Short</td>\n",
       "    </tr>\n",
       "    <tr>\n",
       "      <th>9</th>\n",
       "      <td>tt0000188</td>\n",
       "      <td>short</td>\n",
       "      <td>The Deserter</td>\n",
       "      <td>The Deserter</td>\n",
       "      <td>0</td>\n",
       "      <td>1898</td>\n",
       "      <td>\\N</td>\n",
       "      <td>\\N</td>\n",
       "      <td>Drama,Short</td>\n",
       "    </tr>\n",
       "  </tbody>\n",
       "</table>\n",
       "</div>"
      ],
      "text/plain": [
       "      tconst titleType                            primaryTitle  \\\n",
       "0  tt0000019     short                        The Clown Barber   \n",
       "1  tt0000056     short  Uma Corrida de Touros no Campo Pequeno   \n",
       "2  tt0000070     short                    Demolition of a Wall   \n",
       "3  tt0000077     short                Le fakir, mystère indien   \n",
       "4  tt0000111     short                             Rip's Toast   \n",
       "5  tt0000115     short                     Réunion d'officiers   \n",
       "6  tt0000143     short                        Les cambrioleurs   \n",
       "7  tt0000165     short                         Riña en un café   \n",
       "8  tt0000174     short         Výstavní párkar a lepic plakátù   \n",
       "9  tt0000188     short                            The Deserter   \n",
       "\n",
       "                            originalTitle isAdult startYear endYear  \\\n",
       "0                        The Clown Barber       0      1898      \\N   \n",
       "1  Uma Corrida de Touros no Campo Pequeno       0      1896      \\N   \n",
       "2                     Démolition d'un mur       0      1896      \\N   \n",
       "3                Le fakir, mystère indien       0      1896      \\N   \n",
       "4                             Rip's Toast       0      1896      \\N   \n",
       "5                     Réunion d'officiers       0      1896      \\N   \n",
       "6                        Les cambrioleurs       0      1897      \\N   \n",
       "7                         Riña en un café       0      1897      \\N   \n",
       "8         Výstavní párkar a lepic plakátù       0      1898      \\N   \n",
       "9                            The Deserter       0      1898      \\N   \n",
       "\n",
       "  runtimeMinutes             genres  \n",
       "0             \\N       Comedy,Short  \n",
       "1             \\N              Short  \n",
       "2              1  Documentary,Short  \n",
       "3             \\N              Short  \n",
       "4              1        Drama,Short  \n",
       "5             \\N  Documentary,Short  \n",
       "6              1       Comedy,Short  \n",
       "7              1              Short  \n",
       "8              1       Comedy,Short  \n",
       "9             \\N        Drama,Short  "
      ]
     },
     "execution_count": 26,
     "metadata": {},
     "output_type": "execute_result"
    }
   ],
   "source": [
    "df_titles_sample.limit(10).toPandas()"
   ]
  },
  {
   "cell_type": "code",
   "execution_count": 27,
   "id": "80c4a592",
   "metadata": {},
   "outputs": [
    {
     "data": {
      "text/html": [
       "<div>\n",
       "<style scoped>\n",
       "    .dataframe tbody tr th:only-of-type {\n",
       "        vertical-align: middle;\n",
       "    }\n",
       "\n",
       "    .dataframe tbody tr th {\n",
       "        vertical-align: top;\n",
       "    }\n",
       "\n",
       "    .dataframe thead th {\n",
       "        text-align: right;\n",
       "    }\n",
       "</style>\n",
       "<table border=\"1\" class=\"dataframe\">\n",
       "  <thead>\n",
       "    <tr style=\"text-align: right;\">\n",
       "      <th></th>\n",
       "      <th>tconst</th>\n",
       "      <th>averageRating</th>\n",
       "      <th>numVotes</th>\n",
       "    </tr>\n",
       "  </thead>\n",
       "  <tbody>\n",
       "    <tr>\n",
       "      <th>0</th>\n",
       "      <td>tt0000001</td>\n",
       "      <td>5.7</td>\n",
       "      <td>1809</td>\n",
       "    </tr>\n",
       "    <tr>\n",
       "      <th>1</th>\n",
       "      <td>tt0000002</td>\n",
       "      <td>6.0</td>\n",
       "      <td>233</td>\n",
       "    </tr>\n",
       "    <tr>\n",
       "      <th>2</th>\n",
       "      <td>tt0000003</td>\n",
       "      <td>6.5</td>\n",
       "      <td>1560</td>\n",
       "    </tr>\n",
       "    <tr>\n",
       "      <th>3</th>\n",
       "      <td>tt0000004</td>\n",
       "      <td>6.1</td>\n",
       "      <td>152</td>\n",
       "    </tr>\n",
       "    <tr>\n",
       "      <th>4</th>\n",
       "      <td>tt0000005</td>\n",
       "      <td>6.2</td>\n",
       "      <td>2383</td>\n",
       "    </tr>\n",
       "  </tbody>\n",
       "</table>\n",
       "</div>"
      ],
      "text/plain": [
       "      tconst averageRating numVotes\n",
       "0  tt0000001           5.7     1809\n",
       "1  tt0000002           6.0      233\n",
       "2  tt0000003           6.5     1560\n",
       "3  tt0000004           6.1      152\n",
       "4  tt0000005           6.2     2383"
      ]
     },
     "execution_count": 27,
     "metadata": {},
     "output_type": "execute_result"
    }
   ],
   "source": [
    "df_ratings.limit(5).toPandas()"
   ]
  },
  {
   "cell_type": "code",
   "execution_count": 29,
   "id": "c4e7ea49",
   "metadata": {},
   "outputs": [],
   "source": [
    "df_ratings.write.format('parquet').mode('overwrite').save(data_path + 'title_ratings')"
   ]
  },
  {
   "cell_type": "code",
   "execution_count": 30,
   "id": "be6e16e3",
   "metadata": {},
   "outputs": [],
   "source": [
    "int_cols = ['startYear', 'endYear', 'runtimeMinutes', 'isAdult']\n",
    "for c in int_cols:\n",
    "    df_titles_sample = (\n",
    "        df_titles_sample\n",
    "        .withColumn(c, f.col(c).cast('int'))\n",
    "    )\n",
    "# Limpa os Strings\n",
    "str_cols = ['primaryTitle', 'originalTitle', 'titleType']\n",
    "for c in str_cols:\n",
    "    df_titles_sample = (\n",
    "        df_titles_sample\n",
    "        .withColumn(c, f.initcap(f.trim(f.col(c))))\n",
    "    )"
   ]
  },
  {
   "cell_type": "code",
   "execution_count": 31,
   "id": "8dd2cc76",
   "metadata": {},
   "outputs": [],
   "source": [
    "df_join = (\n",
    "    df_titles_sample\n",
    "    .replace('\\\\N', None)\n",
    "    .withColumn('genres', f.split(f.col('genres'), ','))\n",
    "    .join(df_ratings, 'tconst', 'left')\n",
    ")"
   ]
  },
  {
   "cell_type": "code",
   "execution_count": 33,
   "id": "f7197510",
   "metadata": {},
   "outputs": [
    {
     "data": {
      "text/html": [
       "<div>\n",
       "<style scoped>\n",
       "    .dataframe tbody tr th:only-of-type {\n",
       "        vertical-align: middle;\n",
       "    }\n",
       "\n",
       "    .dataframe tbody tr th {\n",
       "        vertical-align: top;\n",
       "    }\n",
       "\n",
       "    .dataframe thead th {\n",
       "        text-align: right;\n",
       "    }\n",
       "</style>\n",
       "<table border=\"1\" class=\"dataframe\">\n",
       "  <thead>\n",
       "    <tr style=\"text-align: right;\">\n",
       "      <th></th>\n",
       "      <th>tconst</th>\n",
       "      <th>titleType</th>\n",
       "      <th>primaryTitle</th>\n",
       "      <th>originalTitle</th>\n",
       "      <th>isAdult</th>\n",
       "      <th>startYear</th>\n",
       "      <th>endYear</th>\n",
       "      <th>runtimeMinutes</th>\n",
       "      <th>genres</th>\n",
       "      <th>averageRating</th>\n",
       "      <th>numVotes</th>\n",
       "    </tr>\n",
       "  </thead>\n",
       "  <tbody>\n",
       "    <tr>\n",
       "      <th>0</th>\n",
       "      <td>tt0001581</td>\n",
       "      <td>Short</td>\n",
       "      <td>A Devoted Friend</td>\n",
       "      <td>A Devoted Friend</td>\n",
       "      <td>0</td>\n",
       "      <td>1911</td>\n",
       "      <td>NaN</td>\n",
       "      <td>19.0</td>\n",
       "      <td>[Short]</td>\n",
       "      <td>None</td>\n",
       "      <td>None</td>\n",
       "    </tr>\n",
       "    <tr>\n",
       "      <th>1</th>\n",
       "      <td>tt0002347</td>\n",
       "      <td>Short</td>\n",
       "      <td>Le Martyre De Saint Étienne</td>\n",
       "      <td>Le Martyre De Saint Étienne</td>\n",
       "      <td>0</td>\n",
       "      <td>1912</td>\n",
       "      <td>NaN</td>\n",
       "      <td>12.0</td>\n",
       "      <td>[Drama, Short]</td>\n",
       "      <td>None</td>\n",
       "      <td>None</td>\n",
       "    </tr>\n",
       "    <tr>\n",
       "      <th>2</th>\n",
       "      <td>tt0002588</td>\n",
       "      <td>Movie</td>\n",
       "      <td>Zigomar Contre Nick Carter</td>\n",
       "      <td>Zigomar Contre Nick Carter</td>\n",
       "      <td>0</td>\n",
       "      <td>1912</td>\n",
       "      <td>NaN</td>\n",
       "      <td>48.0</td>\n",
       "      <td>[Crime, Thriller]</td>\n",
       "      <td>6.0</td>\n",
       "      <td>32</td>\n",
       "    </tr>\n",
       "    <tr>\n",
       "      <th>3</th>\n",
       "      <td>tt0003180</td>\n",
       "      <td>Short</td>\n",
       "      <td>Mutt And Jeff</td>\n",
       "      <td>Mutt And Jeff</td>\n",
       "      <td>0</td>\n",
       "      <td>1913</td>\n",
       "      <td>NaN</td>\n",
       "      <td>NaN</td>\n",
       "      <td>[Animation, Short]</td>\n",
       "      <td>None</td>\n",
       "      <td>None</td>\n",
       "    </tr>\n",
       "    <tr>\n",
       "      <th>4</th>\n",
       "      <td>tt0005793</td>\n",
       "      <td>Movie</td>\n",
       "      <td>Mysteries Of London</td>\n",
       "      <td>Mysteries Of London</td>\n",
       "      <td>0</td>\n",
       "      <td>1915</td>\n",
       "      <td>NaN</td>\n",
       "      <td>NaN</td>\n",
       "      <td>[Crime, Drama]</td>\n",
       "      <td>6.1</td>\n",
       "      <td>10</td>\n",
       "    </tr>\n",
       "  </tbody>\n",
       "</table>\n",
       "</div>"
      ],
      "text/plain": [
       "      tconst titleType                 primaryTitle  \\\n",
       "0  tt0001581     Short             A Devoted Friend   \n",
       "1  tt0002347     Short  Le Martyre De Saint Étienne   \n",
       "2  tt0002588     Movie   Zigomar Contre Nick Carter   \n",
       "3  tt0003180     Short                Mutt And Jeff   \n",
       "4  tt0005793     Movie          Mysteries Of London   \n",
       "\n",
       "                 originalTitle  isAdult  startYear  endYear  runtimeMinutes  \\\n",
       "0             A Devoted Friend        0       1911      NaN            19.0   \n",
       "1  Le Martyre De Saint Étienne        0       1912      NaN            12.0   \n",
       "2   Zigomar Contre Nick Carter        0       1912      NaN            48.0   \n",
       "3                Mutt And Jeff        0       1913      NaN             NaN   \n",
       "4          Mysteries Of London        0       1915      NaN             NaN   \n",
       "\n",
       "               genres averageRating numVotes  \n",
       "0             [Short]          None     None  \n",
       "1      [Drama, Short]          None     None  \n",
       "2   [Crime, Thriller]           6.0       32  \n",
       "3  [Animation, Short]          None     None  \n",
       "4      [Crime, Drama]           6.1       10  "
      ]
     },
     "execution_count": 33,
     "metadata": {},
     "output_type": "execute_result"
    }
   ],
   "source": [
    "df_join.limit(5).toPandas()"
   ]
  },
  {
   "cell_type": "code",
   "execution_count": 34,
   "id": "659ad317",
   "metadata": {},
   "outputs": [],
   "source": [
    "df_final = (\n",
    "    df_join\n",
    "    .withColumn('genres', f.explode(f.col('genres')))\n",
    "    .groupBy('titleType')\n",
    "    .pivot('genres')\n",
    "    .agg(f.round(f.mean('averageRating'), 2))\n",
    "    .fillna(0)\n",
    ")"
   ]
  },
  {
   "cell_type": "code",
   "execution_count": 35,
   "id": "e531fab8",
   "metadata": {},
   "outputs": [
    {
     "data": {
      "text/html": [
       "<div>\n",
       "<style scoped>\n",
       "    .dataframe tbody tr th:only-of-type {\n",
       "        vertical-align: middle;\n",
       "    }\n",
       "\n",
       "    .dataframe tbody tr th {\n",
       "        vertical-align: top;\n",
       "    }\n",
       "\n",
       "    .dataframe thead th {\n",
       "        text-align: right;\n",
       "    }\n",
       "</style>\n",
       "<table border=\"1\" class=\"dataframe\">\n",
       "  <thead>\n",
       "    <tr style=\"text-align: right;\">\n",
       "      <th></th>\n",
       "      <th>titleType</th>\n",
       "      <th>Action</th>\n",
       "      <th>Adult</th>\n",
       "      <th>Adventure</th>\n",
       "      <th>Animation</th>\n",
       "      <th>Biography</th>\n",
       "      <th>Comedy</th>\n",
       "      <th>Crime</th>\n",
       "      <th>Documentary</th>\n",
       "      <th>Drama</th>\n",
       "      <th>...</th>\n",
       "      <th>News</th>\n",
       "      <th>Reality-TV</th>\n",
       "      <th>Romance</th>\n",
       "      <th>Sci-Fi</th>\n",
       "      <th>Short</th>\n",
       "      <th>Sport</th>\n",
       "      <th>Talk-Show</th>\n",
       "      <th>Thriller</th>\n",
       "      <th>War</th>\n",
       "      <th>Western</th>\n",
       "    </tr>\n",
       "  </thead>\n",
       "  <tbody>\n",
       "    <tr>\n",
       "      <th>0</th>\n",
       "      <td>Tvepisode</td>\n",
       "      <td>7.50</td>\n",
       "      <td>7.04</td>\n",
       "      <td>7.39</td>\n",
       "      <td>7.31</td>\n",
       "      <td>7.45</td>\n",
       "      <td>7.34</td>\n",
       "      <td>7.55</td>\n",
       "      <td>7.54</td>\n",
       "      <td>7.63</td>\n",
       "      <td>...</td>\n",
       "      <td>6.63</td>\n",
       "      <td>7.02</td>\n",
       "      <td>7.59</td>\n",
       "      <td>7.47</td>\n",
       "      <td>6.98</td>\n",
       "      <td>7.10</td>\n",
       "      <td>6.74</td>\n",
       "      <td>7.51</td>\n",
       "      <td>7.84</td>\n",
       "      <td>7.70</td>\n",
       "    </tr>\n",
       "    <tr>\n",
       "      <th>1</th>\n",
       "      <td>Video</td>\n",
       "      <td>6.22</td>\n",
       "      <td>6.52</td>\n",
       "      <td>6.08</td>\n",
       "      <td>6.62</td>\n",
       "      <td>7.10</td>\n",
       "      <td>6.43</td>\n",
       "      <td>6.00</td>\n",
       "      <td>6.97</td>\n",
       "      <td>6.40</td>\n",
       "      <td>...</td>\n",
       "      <td>6.35</td>\n",
       "      <td>6.46</td>\n",
       "      <td>6.26</td>\n",
       "      <td>6.12</td>\n",
       "      <td>6.81</td>\n",
       "      <td>7.24</td>\n",
       "      <td>6.99</td>\n",
       "      <td>5.50</td>\n",
       "      <td>6.13</td>\n",
       "      <td>6.08</td>\n",
       "    </tr>\n",
       "    <tr>\n",
       "      <th>2</th>\n",
       "      <td>Videogame</td>\n",
       "      <td>7.00</td>\n",
       "      <td>7.80</td>\n",
       "      <td>7.27</td>\n",
       "      <td>6.85</td>\n",
       "      <td>0.00</td>\n",
       "      <td>7.36</td>\n",
       "      <td>7.19</td>\n",
       "      <td>6.00</td>\n",
       "      <td>7.58</td>\n",
       "      <td>...</td>\n",
       "      <td>0.00</td>\n",
       "      <td>6.40</td>\n",
       "      <td>6.82</td>\n",
       "      <td>7.05</td>\n",
       "      <td>0.00</td>\n",
       "      <td>6.68</td>\n",
       "      <td>0.00</td>\n",
       "      <td>7.12</td>\n",
       "      <td>7.12</td>\n",
       "      <td>6.69</td>\n",
       "    </tr>\n",
       "    <tr>\n",
       "      <th>3</th>\n",
       "      <td>Tvminiseries</td>\n",
       "      <td>7.05</td>\n",
       "      <td>6.10</td>\n",
       "      <td>6.87</td>\n",
       "      <td>6.68</td>\n",
       "      <td>7.39</td>\n",
       "      <td>6.90</td>\n",
       "      <td>7.01</td>\n",
       "      <td>7.54</td>\n",
       "      <td>7.06</td>\n",
       "      <td>...</td>\n",
       "      <td>9.00</td>\n",
       "      <td>7.28</td>\n",
       "      <td>6.85</td>\n",
       "      <td>7.07</td>\n",
       "      <td>7.43</td>\n",
       "      <td>7.46</td>\n",
       "      <td>6.39</td>\n",
       "      <td>6.69</td>\n",
       "      <td>7.27</td>\n",
       "      <td>7.15</td>\n",
       "    </tr>\n",
       "    <tr>\n",
       "      <th>4</th>\n",
       "      <td>Tvmovie</td>\n",
       "      <td>5.45</td>\n",
       "      <td>6.30</td>\n",
       "      <td>6.05</td>\n",
       "      <td>6.65</td>\n",
       "      <td>6.99</td>\n",
       "      <td>6.52</td>\n",
       "      <td>6.24</td>\n",
       "      <td>7.15</td>\n",
       "      <td>6.58</td>\n",
       "      <td>...</td>\n",
       "      <td>7.97</td>\n",
       "      <td>7.20</td>\n",
       "      <td>6.21</td>\n",
       "      <td>5.77</td>\n",
       "      <td>0.00</td>\n",
       "      <td>6.89</td>\n",
       "      <td>5.60</td>\n",
       "      <td>5.66</td>\n",
       "      <td>7.31</td>\n",
       "      <td>6.34</td>\n",
       "    </tr>\n",
       "  </tbody>\n",
       "</table>\n",
       "<p>5 rows × 29 columns</p>\n",
       "</div>"
      ],
      "text/plain": [
       "      titleType  Action  Adult  Adventure  Animation  Biography  Comedy  \\\n",
       "0     Tvepisode    7.50   7.04       7.39       7.31       7.45    7.34   \n",
       "1         Video    6.22   6.52       6.08       6.62       7.10    6.43   \n",
       "2     Videogame    7.00   7.80       7.27       6.85       0.00    7.36   \n",
       "3  Tvminiseries    7.05   6.10       6.87       6.68       7.39    6.90   \n",
       "4       Tvmovie    5.45   6.30       6.05       6.65       6.99    6.52   \n",
       "\n",
       "   Crime  Documentary  Drama  ...  News  Reality-TV  Romance  Sci-Fi  Short  \\\n",
       "0   7.55         7.54   7.63  ...  6.63        7.02     7.59    7.47   6.98   \n",
       "1   6.00         6.97   6.40  ...  6.35        6.46     6.26    6.12   6.81   \n",
       "2   7.19         6.00   7.58  ...  0.00        6.40     6.82    7.05   0.00   \n",
       "3   7.01         7.54   7.06  ...  9.00        7.28     6.85    7.07   7.43   \n",
       "4   6.24         7.15   6.58  ...  7.97        7.20     6.21    5.77   0.00   \n",
       "\n",
       "   Sport  Talk-Show  Thriller   War  Western  \n",
       "0   7.10       6.74      7.51  7.84     7.70  \n",
       "1   7.24       6.99      5.50  6.13     6.08  \n",
       "2   6.68       0.00      7.12  7.12     6.69  \n",
       "3   7.46       6.39      6.69  7.27     7.15  \n",
       "4   6.89       5.60      5.66  7.31     6.34  \n",
       "\n",
       "[5 rows x 29 columns]"
      ]
     },
     "execution_count": 35,
     "metadata": {},
     "output_type": "execute_result"
    }
   ],
   "source": [
    "df_final.limit(5).toPandas()"
   ]
  },
  {
   "cell_type": "code",
   "execution_count": 36,
   "id": "00bad1a1",
   "metadata": {},
   "outputs": [
    {
     "name": "stdout",
     "output_type": "stream",
     "text": [
      "Wall time: 48.7 s\n"
     ]
    },
    {
     "data": {
      "text/html": [
       "<div>\n",
       "<style scoped>\n",
       "    .dataframe tbody tr th:only-of-type {\n",
       "        vertical-align: middle;\n",
       "    }\n",
       "\n",
       "    .dataframe tbody tr th {\n",
       "        vertical-align: top;\n",
       "    }\n",
       "\n",
       "    .dataframe thead th {\n",
       "        text-align: right;\n",
       "    }\n",
       "</style>\n",
       "<table border=\"1\" class=\"dataframe\">\n",
       "  <thead>\n",
       "    <tr style=\"text-align: right;\">\n",
       "      <th></th>\n",
       "      <th>titleType</th>\n",
       "      <th>Action</th>\n",
       "      <th>Adult</th>\n",
       "      <th>Adventure</th>\n",
       "      <th>Animation</th>\n",
       "      <th>Biography</th>\n",
       "      <th>Comedy</th>\n",
       "      <th>Crime</th>\n",
       "      <th>Documentary</th>\n",
       "      <th>Drama</th>\n",
       "      <th>...</th>\n",
       "      <th>News</th>\n",
       "      <th>Reality-TV</th>\n",
       "      <th>Romance</th>\n",
       "      <th>Sci-Fi</th>\n",
       "      <th>Short</th>\n",
       "      <th>Sport</th>\n",
       "      <th>Talk-Show</th>\n",
       "      <th>Thriller</th>\n",
       "      <th>War</th>\n",
       "      <th>Western</th>\n",
       "    </tr>\n",
       "  </thead>\n",
       "  <tbody>\n",
       "    <tr>\n",
       "      <th>0</th>\n",
       "      <td>Tvepisode</td>\n",
       "      <td>7.50</td>\n",
       "      <td>7.04</td>\n",
       "      <td>7.39</td>\n",
       "      <td>7.31</td>\n",
       "      <td>7.45</td>\n",
       "      <td>7.34</td>\n",
       "      <td>7.55</td>\n",
       "      <td>7.54</td>\n",
       "      <td>7.63</td>\n",
       "      <td>...</td>\n",
       "      <td>6.63</td>\n",
       "      <td>7.02</td>\n",
       "      <td>7.59</td>\n",
       "      <td>7.47</td>\n",
       "      <td>6.98</td>\n",
       "      <td>7.10</td>\n",
       "      <td>6.74</td>\n",
       "      <td>7.51</td>\n",
       "      <td>7.84</td>\n",
       "      <td>7.70</td>\n",
       "    </tr>\n",
       "    <tr>\n",
       "      <th>1</th>\n",
       "      <td>Video</td>\n",
       "      <td>6.22</td>\n",
       "      <td>6.52</td>\n",
       "      <td>6.08</td>\n",
       "      <td>6.62</td>\n",
       "      <td>7.10</td>\n",
       "      <td>6.43</td>\n",
       "      <td>6.00</td>\n",
       "      <td>6.97</td>\n",
       "      <td>6.40</td>\n",
       "      <td>...</td>\n",
       "      <td>6.35</td>\n",
       "      <td>6.46</td>\n",
       "      <td>6.26</td>\n",
       "      <td>6.12</td>\n",
       "      <td>6.81</td>\n",
       "      <td>7.24</td>\n",
       "      <td>6.99</td>\n",
       "      <td>5.50</td>\n",
       "      <td>6.13</td>\n",
       "      <td>6.08</td>\n",
       "    </tr>\n",
       "    <tr>\n",
       "      <th>2</th>\n",
       "      <td>Videogame</td>\n",
       "      <td>7.00</td>\n",
       "      <td>7.80</td>\n",
       "      <td>7.27</td>\n",
       "      <td>6.85</td>\n",
       "      <td>0.00</td>\n",
       "      <td>7.36</td>\n",
       "      <td>7.19</td>\n",
       "      <td>6.00</td>\n",
       "      <td>7.58</td>\n",
       "      <td>...</td>\n",
       "      <td>0.00</td>\n",
       "      <td>6.40</td>\n",
       "      <td>6.82</td>\n",
       "      <td>7.05</td>\n",
       "      <td>0.00</td>\n",
       "      <td>6.68</td>\n",
       "      <td>0.00</td>\n",
       "      <td>7.12</td>\n",
       "      <td>7.12</td>\n",
       "      <td>6.69</td>\n",
       "    </tr>\n",
       "    <tr>\n",
       "      <th>3</th>\n",
       "      <td>Tvminiseries</td>\n",
       "      <td>7.05</td>\n",
       "      <td>6.10</td>\n",
       "      <td>6.87</td>\n",
       "      <td>6.68</td>\n",
       "      <td>7.39</td>\n",
       "      <td>6.90</td>\n",
       "      <td>7.01</td>\n",
       "      <td>7.54</td>\n",
       "      <td>7.06</td>\n",
       "      <td>...</td>\n",
       "      <td>9.00</td>\n",
       "      <td>7.28</td>\n",
       "      <td>6.85</td>\n",
       "      <td>7.07</td>\n",
       "      <td>7.43</td>\n",
       "      <td>7.46</td>\n",
       "      <td>6.39</td>\n",
       "      <td>6.69</td>\n",
       "      <td>7.27</td>\n",
       "      <td>7.15</td>\n",
       "    </tr>\n",
       "    <tr>\n",
       "      <th>4</th>\n",
       "      <td>Tvmovie</td>\n",
       "      <td>5.45</td>\n",
       "      <td>6.30</td>\n",
       "      <td>6.05</td>\n",
       "      <td>6.65</td>\n",
       "      <td>6.99</td>\n",
       "      <td>6.52</td>\n",
       "      <td>6.24</td>\n",
       "      <td>7.15</td>\n",
       "      <td>6.58</td>\n",
       "      <td>...</td>\n",
       "      <td>7.97</td>\n",
       "      <td>7.20</td>\n",
       "      <td>6.21</td>\n",
       "      <td>5.77</td>\n",
       "      <td>0.00</td>\n",
       "      <td>6.89</td>\n",
       "      <td>5.60</td>\n",
       "      <td>5.66</td>\n",
       "      <td>7.31</td>\n",
       "      <td>6.34</td>\n",
       "    </tr>\n",
       "  </tbody>\n",
       "</table>\n",
       "<p>5 rows × 29 columns</p>\n",
       "</div>"
      ],
      "text/plain": [
       "      titleType  Action  Adult  Adventure  Animation  Biography  Comedy  \\\n",
       "0     Tvepisode    7.50   7.04       7.39       7.31       7.45    7.34   \n",
       "1         Video    6.22   6.52       6.08       6.62       7.10    6.43   \n",
       "2     Videogame    7.00   7.80       7.27       6.85       0.00    7.36   \n",
       "3  Tvminiseries    7.05   6.10       6.87       6.68       7.39    6.90   \n",
       "4       Tvmovie    5.45   6.30       6.05       6.65       6.99    6.52   \n",
       "\n",
       "   Crime  Documentary  Drama  ...  News  Reality-TV  Romance  Sci-Fi  Short  \\\n",
       "0   7.55         7.54   7.63  ...  6.63        7.02     7.59    7.47   6.98   \n",
       "1   6.00         6.97   6.40  ...  6.35        6.46     6.26    6.12   6.81   \n",
       "2   7.19         6.00   7.58  ...  0.00        6.40     6.82    7.05   0.00   \n",
       "3   7.01         7.54   7.06  ...  9.00        7.28     6.85    7.07   7.43   \n",
       "4   6.24         7.15   6.58  ...  7.97        7.20     6.21    5.77   0.00   \n",
       "\n",
       "   Sport  Talk-Show  Thriller   War  Western  \n",
       "0   7.10       6.74      7.51  7.84     7.70  \n",
       "1   7.24       6.99      5.50  6.13     6.08  \n",
       "2   6.68       0.00      7.12  7.12     6.69  \n",
       "3   7.46       6.39      6.69  7.27     7.15  \n",
       "4   6.89       5.60      5.66  7.31     6.34  \n",
       "\n",
       "[5 rows x 29 columns]"
      ]
     },
     "execution_count": 36,
     "metadata": {},
     "output_type": "execute_result"
    }
   ],
   "source": [
    "%%time\n",
    "df_final.limit(5).toPandas()"
   ]
  },
  {
   "cell_type": "code",
   "execution_count": 37,
   "id": "db163d0d",
   "metadata": {},
   "outputs": [
    {
     "name": "stdout",
     "output_type": "stream",
     "text": [
      "Wall time: 24.3 s\n"
     ]
    },
    {
     "data": {
      "text/plain": [
       "820475"
      ]
     },
     "execution_count": 37,
     "metadata": {},
     "output_type": "execute_result"
    }
   ],
   "source": [
    "%%time\n",
    "df_join.cache()\n",
    "df_join.count()"
   ]
  },
  {
   "cell_type": "code",
   "execution_count": 38,
   "id": "71fe1d71",
   "metadata": {},
   "outputs": [
    {
     "data": {
      "text/plain": [
       "10"
      ]
     },
     "execution_count": 38,
     "metadata": {},
     "output_type": "execute_result"
    }
   ],
   "source": [
    "df_final.cache()\n",
    "df_final.count()"
   ]
  },
  {
   "cell_type": "code",
   "execution_count": 39,
   "id": "c4785d03",
   "metadata": {},
   "outputs": [
    {
     "name": "stdout",
     "output_type": "stream",
     "text": [
      "Wall time: 708 ms\n"
     ]
    },
    {
     "data": {
      "text/html": [
       "<div>\n",
       "<style scoped>\n",
       "    .dataframe tbody tr th:only-of-type {\n",
       "        vertical-align: middle;\n",
       "    }\n",
       "\n",
       "    .dataframe tbody tr th {\n",
       "        vertical-align: top;\n",
       "    }\n",
       "\n",
       "    .dataframe thead th {\n",
       "        text-align: right;\n",
       "    }\n",
       "</style>\n",
       "<table border=\"1\" class=\"dataframe\">\n",
       "  <thead>\n",
       "    <tr style=\"text-align: right;\">\n",
       "      <th></th>\n",
       "      <th>titleType</th>\n",
       "      <th>Action</th>\n",
       "      <th>Adult</th>\n",
       "      <th>Adventure</th>\n",
       "      <th>Animation</th>\n",
       "      <th>Biography</th>\n",
       "      <th>Comedy</th>\n",
       "      <th>Crime</th>\n",
       "      <th>Documentary</th>\n",
       "      <th>Drama</th>\n",
       "      <th>...</th>\n",
       "      <th>News</th>\n",
       "      <th>Reality-TV</th>\n",
       "      <th>Romance</th>\n",
       "      <th>Sci-Fi</th>\n",
       "      <th>Short</th>\n",
       "      <th>Sport</th>\n",
       "      <th>Talk-Show</th>\n",
       "      <th>Thriller</th>\n",
       "      <th>War</th>\n",
       "      <th>Western</th>\n",
       "    </tr>\n",
       "  </thead>\n",
       "  <tbody>\n",
       "    <tr>\n",
       "      <th>0</th>\n",
       "      <td>Tvepisode</td>\n",
       "      <td>7.50</td>\n",
       "      <td>7.04</td>\n",
       "      <td>7.39</td>\n",
       "      <td>7.31</td>\n",
       "      <td>7.45</td>\n",
       "      <td>7.34</td>\n",
       "      <td>7.55</td>\n",
       "      <td>7.54</td>\n",
       "      <td>7.63</td>\n",
       "      <td>...</td>\n",
       "      <td>6.63</td>\n",
       "      <td>7.02</td>\n",
       "      <td>7.59</td>\n",
       "      <td>7.47</td>\n",
       "      <td>6.98</td>\n",
       "      <td>7.10</td>\n",
       "      <td>6.74</td>\n",
       "      <td>7.51</td>\n",
       "      <td>7.84</td>\n",
       "      <td>7.70</td>\n",
       "    </tr>\n",
       "    <tr>\n",
       "      <th>1</th>\n",
       "      <td>Video</td>\n",
       "      <td>6.22</td>\n",
       "      <td>6.52</td>\n",
       "      <td>6.08</td>\n",
       "      <td>6.62</td>\n",
       "      <td>7.10</td>\n",
       "      <td>6.43</td>\n",
       "      <td>6.00</td>\n",
       "      <td>6.97</td>\n",
       "      <td>6.40</td>\n",
       "      <td>...</td>\n",
       "      <td>6.35</td>\n",
       "      <td>6.46</td>\n",
       "      <td>6.26</td>\n",
       "      <td>6.12</td>\n",
       "      <td>6.81</td>\n",
       "      <td>7.24</td>\n",
       "      <td>6.99</td>\n",
       "      <td>5.50</td>\n",
       "      <td>6.13</td>\n",
       "      <td>6.08</td>\n",
       "    </tr>\n",
       "    <tr>\n",
       "      <th>2</th>\n",
       "      <td>Videogame</td>\n",
       "      <td>7.00</td>\n",
       "      <td>7.80</td>\n",
       "      <td>7.27</td>\n",
       "      <td>6.85</td>\n",
       "      <td>0.00</td>\n",
       "      <td>7.36</td>\n",
       "      <td>7.19</td>\n",
       "      <td>6.00</td>\n",
       "      <td>7.58</td>\n",
       "      <td>...</td>\n",
       "      <td>0.00</td>\n",
       "      <td>6.40</td>\n",
       "      <td>6.82</td>\n",
       "      <td>7.05</td>\n",
       "      <td>0.00</td>\n",
       "      <td>6.68</td>\n",
       "      <td>0.00</td>\n",
       "      <td>7.12</td>\n",
       "      <td>7.12</td>\n",
       "      <td>6.69</td>\n",
       "    </tr>\n",
       "    <tr>\n",
       "      <th>3</th>\n",
       "      <td>Tvminiseries</td>\n",
       "      <td>7.05</td>\n",
       "      <td>6.10</td>\n",
       "      <td>6.87</td>\n",
       "      <td>6.68</td>\n",
       "      <td>7.39</td>\n",
       "      <td>6.90</td>\n",
       "      <td>7.01</td>\n",
       "      <td>7.54</td>\n",
       "      <td>7.06</td>\n",
       "      <td>...</td>\n",
       "      <td>9.00</td>\n",
       "      <td>7.28</td>\n",
       "      <td>6.85</td>\n",
       "      <td>7.07</td>\n",
       "      <td>7.43</td>\n",
       "      <td>7.46</td>\n",
       "      <td>6.39</td>\n",
       "      <td>6.69</td>\n",
       "      <td>7.27</td>\n",
       "      <td>7.15</td>\n",
       "    </tr>\n",
       "    <tr>\n",
       "      <th>4</th>\n",
       "      <td>Tvmovie</td>\n",
       "      <td>5.45</td>\n",
       "      <td>6.30</td>\n",
       "      <td>6.05</td>\n",
       "      <td>6.65</td>\n",
       "      <td>6.99</td>\n",
       "      <td>6.52</td>\n",
       "      <td>6.24</td>\n",
       "      <td>7.15</td>\n",
       "      <td>6.58</td>\n",
       "      <td>...</td>\n",
       "      <td>7.97</td>\n",
       "      <td>7.20</td>\n",
       "      <td>6.21</td>\n",
       "      <td>5.77</td>\n",
       "      <td>0.00</td>\n",
       "      <td>6.89</td>\n",
       "      <td>5.60</td>\n",
       "      <td>5.66</td>\n",
       "      <td>7.31</td>\n",
       "      <td>6.34</td>\n",
       "    </tr>\n",
       "  </tbody>\n",
       "</table>\n",
       "<p>5 rows × 29 columns</p>\n",
       "</div>"
      ],
      "text/plain": [
       "      titleType  Action  Adult  Adventure  Animation  Biography  Comedy  \\\n",
       "0     Tvepisode    7.50   7.04       7.39       7.31       7.45    7.34   \n",
       "1         Video    6.22   6.52       6.08       6.62       7.10    6.43   \n",
       "2     Videogame    7.00   7.80       7.27       6.85       0.00    7.36   \n",
       "3  Tvminiseries    7.05   6.10       6.87       6.68       7.39    6.90   \n",
       "4       Tvmovie    5.45   6.30       6.05       6.65       6.99    6.52   \n",
       "\n",
       "   Crime  Documentary  Drama  ...  News  Reality-TV  Romance  Sci-Fi  Short  \\\n",
       "0   7.55         7.54   7.63  ...  6.63        7.02     7.59    7.47   6.98   \n",
       "1   6.00         6.97   6.40  ...  6.35        6.46     6.26    6.12   6.81   \n",
       "2   7.19         6.00   7.58  ...  0.00        6.40     6.82    7.05   0.00   \n",
       "3   7.01         7.54   7.06  ...  9.00        7.28     6.85    7.07   7.43   \n",
       "4   6.24         7.15   6.58  ...  7.97        7.20     6.21    5.77   0.00   \n",
       "\n",
       "   Sport  Talk-Show  Thriller   War  Western  \n",
       "0   7.10       6.74      7.51  7.84     7.70  \n",
       "1   7.24       6.99      5.50  6.13     6.08  \n",
       "2   6.68       0.00      7.12  7.12     6.69  \n",
       "3   7.46       6.39      6.69  7.27     7.15  \n",
       "4   6.89       5.60      5.66  7.31     6.34  \n",
       "\n",
       "[5 rows x 29 columns]"
      ]
     },
     "execution_count": 39,
     "metadata": {},
     "output_type": "execute_result"
    }
   ],
   "source": [
    "%%time\n",
    "df_final.limit(5).toPandas()"
   ]
  },
  {
   "cell_type": "code",
   "execution_count": 40,
   "id": "69d3d1f5",
   "metadata": {},
   "outputs": [
    {
     "data": {
      "text/plain": [
       "820475"
      ]
     },
     "execution_count": 40,
     "metadata": {},
     "output_type": "execute_result"
    }
   ],
   "source": [
    "df_join.cache()\n",
    "df_join.count()"
   ]
  },
  {
   "cell_type": "code",
   "execution_count": 41,
   "id": "500214ce",
   "metadata": {},
   "outputs": [
    {
     "name": "stdout",
     "output_type": "stream",
     "text": [
      "Wall time: 143 ms\n"
     ]
    },
    {
     "data": {
      "text/html": [
       "<div>\n",
       "<style scoped>\n",
       "    .dataframe tbody tr th:only-of-type {\n",
       "        vertical-align: middle;\n",
       "    }\n",
       "\n",
       "    .dataframe tbody tr th {\n",
       "        vertical-align: top;\n",
       "    }\n",
       "\n",
       "    .dataframe thead th {\n",
       "        text-align: right;\n",
       "    }\n",
       "</style>\n",
       "<table border=\"1\" class=\"dataframe\">\n",
       "  <thead>\n",
       "    <tr style=\"text-align: right;\">\n",
       "      <th></th>\n",
       "      <th>tconst</th>\n",
       "      <th>titleType</th>\n",
       "      <th>primaryTitle</th>\n",
       "      <th>originalTitle</th>\n",
       "      <th>isAdult</th>\n",
       "      <th>startYear</th>\n",
       "      <th>endYear</th>\n",
       "      <th>runtimeMinutes</th>\n",
       "      <th>genres</th>\n",
       "      <th>averageRating</th>\n",
       "      <th>numVotes</th>\n",
       "    </tr>\n",
       "  </thead>\n",
       "  <tbody>\n",
       "    <tr>\n",
       "      <th>0</th>\n",
       "      <td>tt0001581</td>\n",
       "      <td>Short</td>\n",
       "      <td>A Devoted Friend</td>\n",
       "      <td>A Devoted Friend</td>\n",
       "      <td>0</td>\n",
       "      <td>1911</td>\n",
       "      <td>NaN</td>\n",
       "      <td>19.0</td>\n",
       "      <td>[Short]</td>\n",
       "      <td>None</td>\n",
       "      <td>None</td>\n",
       "    </tr>\n",
       "    <tr>\n",
       "      <th>1</th>\n",
       "      <td>tt0002347</td>\n",
       "      <td>Short</td>\n",
       "      <td>Le Martyre De Saint Étienne</td>\n",
       "      <td>Le Martyre De Saint Étienne</td>\n",
       "      <td>0</td>\n",
       "      <td>1912</td>\n",
       "      <td>NaN</td>\n",
       "      <td>12.0</td>\n",
       "      <td>[Drama, Short]</td>\n",
       "      <td>None</td>\n",
       "      <td>None</td>\n",
       "    </tr>\n",
       "    <tr>\n",
       "      <th>2</th>\n",
       "      <td>tt0002588</td>\n",
       "      <td>Movie</td>\n",
       "      <td>Zigomar Contre Nick Carter</td>\n",
       "      <td>Zigomar Contre Nick Carter</td>\n",
       "      <td>0</td>\n",
       "      <td>1912</td>\n",
       "      <td>NaN</td>\n",
       "      <td>48.0</td>\n",
       "      <td>[Crime, Thriller]</td>\n",
       "      <td>6.0</td>\n",
       "      <td>32</td>\n",
       "    </tr>\n",
       "    <tr>\n",
       "      <th>3</th>\n",
       "      <td>tt0003180</td>\n",
       "      <td>Short</td>\n",
       "      <td>Mutt And Jeff</td>\n",
       "      <td>Mutt And Jeff</td>\n",
       "      <td>0</td>\n",
       "      <td>1913</td>\n",
       "      <td>NaN</td>\n",
       "      <td>NaN</td>\n",
       "      <td>[Animation, Short]</td>\n",
       "      <td>None</td>\n",
       "      <td>None</td>\n",
       "    </tr>\n",
       "    <tr>\n",
       "      <th>4</th>\n",
       "      <td>tt0005793</td>\n",
       "      <td>Movie</td>\n",
       "      <td>Mysteries Of London</td>\n",
       "      <td>Mysteries Of London</td>\n",
       "      <td>0</td>\n",
       "      <td>1915</td>\n",
       "      <td>NaN</td>\n",
       "      <td>NaN</td>\n",
       "      <td>[Crime, Drama]</td>\n",
       "      <td>6.1</td>\n",
       "      <td>10</td>\n",
       "    </tr>\n",
       "  </tbody>\n",
       "</table>\n",
       "</div>"
      ],
      "text/plain": [
       "      tconst titleType                 primaryTitle  \\\n",
       "0  tt0001581     Short             A Devoted Friend   \n",
       "1  tt0002347     Short  Le Martyre De Saint Étienne   \n",
       "2  tt0002588     Movie   Zigomar Contre Nick Carter   \n",
       "3  tt0003180     Short                Mutt And Jeff   \n",
       "4  tt0005793     Movie          Mysteries Of London   \n",
       "\n",
       "                 originalTitle  isAdult  startYear  endYear  runtimeMinutes  \\\n",
       "0             A Devoted Friend        0       1911      NaN            19.0   \n",
       "1  Le Martyre De Saint Étienne        0       1912      NaN            12.0   \n",
       "2   Zigomar Contre Nick Carter        0       1912      NaN            48.0   \n",
       "3                Mutt And Jeff        0       1913      NaN             NaN   \n",
       "4          Mysteries Of London        0       1915      NaN             NaN   \n",
       "\n",
       "               genres averageRating numVotes  \n",
       "0             [Short]          None     None  \n",
       "1      [Drama, Short]          None     None  \n",
       "2   [Crime, Thriller]           6.0       32  \n",
       "3  [Animation, Short]          None     None  \n",
       "4      [Crime, Drama]           6.1       10  "
      ]
     },
     "execution_count": 41,
     "metadata": {},
     "output_type": "execute_result"
    }
   ],
   "source": [
    "%%time\n",
    "df_join.limit(5).toPandas()"
   ]
  },
  {
   "cell_type": "code",
   "execution_count": 43,
   "id": "2785dd3a",
   "metadata": {},
   "outputs": [],
   "source": [
    "#unpersist tira da memoria, persist ou .cache poe na memória#"
   ]
  },
  {
   "cell_type": "code",
   "execution_count": 42,
   "id": "68ad2918",
   "metadata": {},
   "outputs": [
    {
     "data": {
      "text/plain": [
       "DataFrame[titleType: string, Action: double, Adult: double, Adventure: double, Animation: double, Biography: double, Comedy: double, Crime: double, Documentary: double, Drama: double, Family: double, Fantasy: double, Film-Noir: double, Game-Show: double, History: double, Horror: double, Music: double, Musical: double, Mystery: double, News: double, Reality-TV: double, Romance: double, Sci-Fi: double, Short: double, Sport: double, Talk-Show: double, Thriller: double, War: double, Western: double]"
      ]
     },
     "execution_count": 42,
     "metadata": {},
     "output_type": "execute_result"
    }
   ],
   "source": [
    "df_final.unpersist()"
   ]
  },
  {
   "cell_type": "code",
   "execution_count": 44,
   "id": "0df82e14",
   "metadata": {},
   "outputs": [],
   "source": [
    "spark.catalog.clearCache()"
   ]
  },
  {
   "cell_type": "code",
   "execution_count": 45,
   "id": "b484e54f",
   "metadata": {},
   "outputs": [
    {
     "data": {
      "text/html": [
       "\n",
       "            <div>\n",
       "                <p><b>SparkSession - hive</b></p>\n",
       "                \n",
       "        <div>\n",
       "            <p><b>SparkContext</b></p>\n",
       "\n",
       "            <p><a href=\"http://DESKTOP-59KC0CO:4040\">Spark UI</a></p>\n",
       "\n",
       "            <dl>\n",
       "              <dt>Version</dt>\n",
       "                <dd><code>v3.1.2</code></dd>\n",
       "              <dt>Master</dt>\n",
       "                <dd><code>local[*]</code></dd>\n",
       "              <dt>AppName</dt>\n",
       "                <dd><code>pyspark-shell</code></dd>\n",
       "            </dl>\n",
       "        </div>\n",
       "        \n",
       "            </div>\n",
       "        "
      ],
      "text/plain": [
       "<pyspark.sql.session.SparkSession at 0x2d828725d90>"
      ]
     },
     "execution_count": 45,
     "metadata": {},
     "output_type": "execute_result"
    }
   ],
   "source": [
    "spark"
   ]
  },
  {
   "cell_type": "code",
   "execution_count": null,
   "id": "6610de32",
   "metadata": {},
   "outputs": [],
   "source": []
  }
 ],
 "metadata": {
  "kernelspec": {
   "display_name": "Python 3",
   "language": "python",
   "name": "python3"
  },
  "language_info": {
   "codemirror_mode": {
    "name": "ipython",
    "version": 3
   },
   "file_extension": ".py",
   "mimetype": "text/x-python",
   "name": "python",
   "nbconvert_exporter": "python",
   "pygments_lexer": "ipython3",
   "version": "3.8.8"
  }
 },
 "nbformat": 4,
 "nbformat_minor": 5
}
